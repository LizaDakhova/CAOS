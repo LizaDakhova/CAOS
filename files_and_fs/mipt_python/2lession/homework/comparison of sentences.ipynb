{
 "cells": [
  {
   "cell_type": "code",
   "execution_count": 22,
   "metadata": {},
   "outputs": [],
   "source": [
    "import re\n",
    "file_obj = open('sentences.txt', 'r+')\n",
    "list_of_words = []\n",
    "words = []\n",
    "for line in file_obj:\n",
    "    line = line.lower()\n",
    "    words_in_sentence = re.split('[^a-z]', line)\n",
    "    words_in_sentence = [word for word in words_in_sentence if word != '']\n",
    "    list_of_words.append(words_in_sentence)\n",
    "    words += words_in_sentence"
   ]
  },
  {
   "cell_type": "code",
   "execution_count": 23,
   "metadata": {},
   "outputs": [
    {
     "name": "stdout",
     "output_type": "stream",
     "text": [
      "[['in', 'comparison', 'to', 'dogs', 'cats', 'have', 'not', 'undergone', 'major', 'changes', 'during', 'the', 'domestication', 'process'], ['as', 'cat', 'simply', 'catenates', 'streams', 'of', 'bytes', 'it', 'can', 'be', 'also', 'used', 'to', 'concatenate', 'binary', 'files', 'where', 'it', 'will', 'just', 'concatenate', 'sequence', 'of', 'bytes'], ['a', 'common', 'interactive', 'use', 'of', 'cat', 'for', 'a', 'single', 'file', 'is', 'to', 'output', 'the', 'content', 'of', 'a', 'file', 'to', 'standard', 'output'], ['cats', 'can', 'hear', 'sounds', 'too', 'faint', 'or', 'too', 'high', 'in', 'frequency', 'for', 'human', 'ears', 'such', 'as', 'those', 'made', 'by', 'mice', 'and', 'other', 'small', 'animals'], ['in', 'one', 'people', 'deliberately', 'tamed', 'cats', 'in', 'a', 'process', 'of', 'artificial', 'selection', 'as', 'they', 'were', 'useful', 'predators', 'of', 'vermin'], ['the', 'domesticated', 'cat', 'and', 'its', 'closest', 'wild', 'ancestor', 'are', 'both', 'diploid', 'organisms', 'that', 'possess', 'chromosomes', 'and', 'roughly', 'genes'], ['domestic', 'cats', 'are', 'similar', 'in', 'size', 'to', 'the', 'other', 'members', 'of', 'the', 'genus', 'felis', 'typically', 'weighing', 'between', 'and', 'kg', 'and', 'lb'], ['however', 'if', 'the', 'output', 'is', 'piped', 'or', 'redirected', 'cat', 'is', 'unnecessary'], ['cat', 'with', 'one', 'named', 'file', 'is', 'safer', 'where', 'human', 'error', 'is', 'a', 'concern', 'one', 'wrong', 'use', 'of', 'the', 'default', 'redirection', 'symbol', 'instead', 'of', 'often', 'adjacent', 'on', 'keyboards', 'may', 'permanently', 'delete', 'the', 'file', 'you', 'were', 'just', 'needing', 'to', 'read'], ['in', 'terms', 'of', 'legibility', 'a', 'sequence', 'of', 'commands', 'starting', 'with', 'cat', 'and', 'connected', 'by', 'pipes', 'has', 'a', 'clear', 'left', 'to', 'right', 'flow', 'of', 'information'], ['cat', 'command', 'is', 'one', 'of', 'the', 'basic', 'commands', 'that', 'you', 'learned', 'when', 'you', 'started', 'in', 'the', 'unix', 'linux', 'world'], ['using', 'cat', 'command', 'the', 'lines', 'received', 'from', 'stdin', 'can', 'be', 'redirected', 'to', 'a', 'new', 'file', 'using', 'redirection', 'symbols'], ['when', 'you', 'type', 'simply', 'cat', 'command', 'without', 'any', 'arguments', 'it', 'just', 'receives', 'the', 'stdin', 'content', 'and', 'displays', 'it', 'in', 'the', 'stdout'], ['leopard', 'was', 'released', 'on', 'october', 'as', 'the', 'successor', 'of', 'tiger', 'version', 'and', 'is', 'available', 'in', 'two', 'editions'], ['according', 'to', 'apple', 'leopard', 'contains', 'over', 'changes', 'and', 'enhancements', 'over', 'its', 'predecessor', 'mac', 'os', 'x', 'tiger'], ['as', 'of', 'mid', 'some', 'apple', 'computers', 'have', 'firmware', 'factory', 'installed', 'which', 'will', 'no', 'longer', 'allow', 'installation', 'of', 'mac', 'os', 'x', 'leopard'], ['since', 'apple', 'moved', 'to', 'using', 'intel', 'processors', 'in', 'their', 'computers', 'the', 'osx', 'community', 'has', 'developed', 'and', 'now', 'also', 'allows', 'mac', 'os', 'x', 'tiger', 'and', 'later', 'releases', 'to', 'be', 'installed', 'on', 'non', 'apple', 'x', 'based', 'computers'], ['os', 'x', 'mountain', 'lion', 'was', 'released', 'on', 'july', 'for', 'purchase', 'and', 'download', 'through', 'apple', 's', 'mac', 'app', 'store', 'as', 'part', 'of', 'a', 'switch', 'to', 'releasing', 'os', 'x', 'versions', 'online', 'and', 'every', 'year'], ['apple', 'has', 'released', 'a', 'small', 'patch', 'for', 'the', 'three', 'most', 'recent', 'versions', 'of', 'safari', 'running', 'on', 'os', 'x', 'yosemite', 'mavericks', 'and', 'mountain', 'lion'], ['the', 'mountain', 'lion', 'release', 'marks', 'the', 'second', 'time', 'apple', 'has', 'offered', 'an', 'incremental', 'upgrade', 'rather', 'than', 'releasing', 'a', 'new', 'cat', 'entirely'], ['mac', 'os', 'x', 'mountain', 'lion', 'installs', 'in', 'place', 'so', 'you', 'won', 't', 'need', 'to', 'create', 'a', 'separate', 'disk', 'or', 'run', 'the', 'installation', 'off', 'an', 'external', 'drive'], ['the', 'fifth', 'major', 'update', 'to', 'mac', 'os', 'x', 'leopard', 'contains', 'such', 'a', 'mountain', 'of', 'features', 'more', 'than', 'by', 'apple', 's', 'count']]\n"
     ]
    }
   ],
   "source": [
    "print list_of_words"
   ]
  },
  {
   "cell_type": "code",
   "execution_count": 24,
   "metadata": {},
   "outputs": [],
   "source": [
    "from collections import Counter\n",
    "\n",
    "counted_list_of_words = [];\n",
    "for sentence in list_of_words:\n",
    "    counted_list_of_words.append(Counter(sentence));"
   ]
  },
  {
   "cell_type": "code",
   "execution_count": 25,
   "metadata": {},
   "outputs": [
    {
     "name": "stdout",
     "output_type": "stream",
     "text": [
      "[Counter({'comparison': 1, 'undergone': 1, 'process': 1, 'major': 1, 'to': 1, 'cats': 1, 'have': 1, 'in': 1, 'not': 1, 'during': 1, 'the': 1, 'changes': 1, 'dogs': 1, 'domestication': 1}), Counter({'concatenate': 2, 'of': 2, 'bytes': 2, 'it': 2, 'be': 1, 'used': 1, 'just': 1, 'to': 1, 'will': 1, 'sequence': 1, 'cat': 1, 'binary': 1, 'also': 1, 'as': 1, 'streams': 1, 'can': 1, 'simply': 1, 'where': 1, 'files': 1, 'catenates': 1}), Counter({'a': 3, 'of': 2, 'to': 2, 'file': 2, 'output': 2, 'use': 1, 'for': 1, 'is': 1, 'cat': 1, 'content': 1, 'single': 1, 'common': 1, 'the': 1, 'standard': 1, 'interactive': 1}), Counter({'too': 2, 'and': 1, 'high': 1, 'as': 1, 'frequency': 1, 'human': 1, 'in': 1, 'sounds': 1, 'for': 1, 'faint': 1, 'other': 1, 'hear': 1, 'such': 1, 'mice': 1, 'by': 1, 'those': 1, 'made': 1, 'animals': 1, 'can': 1, 'small': 1, 'cats': 1, 'or': 1, 'ears': 1}), Counter({'of': 2, 'in': 2, 'tamed': 1, 'a': 1, 'selection': 1, 'useful': 1, 'people': 1, 'process': 1, 'were': 1, 'artificial': 1, 'one': 1, 'vermin': 1, 'as': 1, 'cats': 1, 'deliberately': 1, 'predators': 1, 'they': 1}), Counter({'and': 2, 'both': 1, 'chromosomes': 1, 'organisms': 1, 'closest': 1, 'that': 1, 'genes': 1, 'roughly': 1, 'cat': 1, 'diploid': 1, 'are': 1, 'wild': 1, 'the': 1, 'ancestor': 1, 'domesticated': 1, 'its': 1, 'possess': 1}), Counter({'and': 2, 'the': 2, 'felis': 1, 'weighing': 1, 'of': 1, 'between': 1, 'domestic': 1, 'typically': 1, 'lb': 1, 'to': 1, 'cats': 1, 'are': 1, 'members': 1, 'in': 1, 'kg': 1, 'genus': 1, 'similar': 1, 'other': 1, 'size': 1}), Counter({'is': 2, 'however': 1, 'or': 1, 'redirected': 1, 'output': 1, 'the': 1, 'cat': 1, 'unnecessary': 1, 'piped': 1, 'if': 1}), Counter({'is': 2, 'one': 2, 'file': 2, 'of': 2, 'the': 2, 'named': 1, 'often': 1, 'just': 1, 'human': 1, 'concern': 1, 'use': 1, 'to': 1, 'redirection': 1, 'permanently': 1, 'adjacent': 1, 'instead': 1, 'you': 1, 'may': 1, 'symbol': 1, 'were': 1, 'wrong': 1, 'read': 1, 'safer': 1, 'with': 1, 'a': 1, 'on': 1, 'keyboards': 1, 'default': 1, 'needing': 1, 'cat': 1, 'error': 1, 'where': 1, 'delete': 1}), Counter({'of': 3, 'a': 2, 'and': 1, 'commands': 1, 'right': 1, 'terms': 1, 'to': 1, 'sequence': 1, 'with': 1, 'pipes': 1, 'flow': 1, 'starting': 1, 'cat': 1, 'clear': 1, 'connected': 1, 'in': 1, 'information': 1, 'has': 1, 'legibility': 1, 'by': 1, 'left': 1}), Counter({'the': 2, 'you': 2, 'learned': 1, 'commands': 1, 'that': 1, 'started': 1, 'of': 1, 'is': 1, 'in': 1, 'when': 1, 'linux': 1, 'one': 1, 'unix': 1, 'command': 1, 'basic': 1, 'world': 1, 'cat': 1}), Counter({'using': 2, 'a': 1, 'received': 1, 'from': 1, 'be': 1, 'stdin': 1, 'lines': 1, 'new': 1, 'cat': 1, 'symbols': 1, 'to': 1, 'command': 1, 'can': 1, 'file': 1, 'redirected': 1, 'the': 1, 'redirection': 1}), Counter({'the': 2, 'it': 2, 'and': 1, 'just': 1, 'stdout': 1, 'stdin': 1, 'when': 1, 'cat': 1, 'content': 1, 'without': 1, 'command': 1, 'arguments': 1, 'receives': 1, 'in': 1, 'simply': 1, 'you': 1, 'type': 1, 'any': 1, 'displays': 1}), Counter({'and': 1, 'on': 1, 'available': 1, 'october': 1, 'of': 1, 'is': 1, 'leopard': 1, 'two': 1, 'tiger': 1, 'released': 1, 'as': 1, 'version': 1, 'in': 1, 'editions': 1, 'the': 1, 'was': 1, 'successor': 1}), Counter({'over': 2, 'and': 1, 'predecessor': 1, 'apple': 1, 'os': 1, 'contains': 1, 'leopard': 1, 'according': 1, 'tiger': 1, 'to': 1, 'mac': 1, 'x': 1, 'changes': 1, 'its': 1, 'enhancements': 1}), Counter({'of': 2, 'mac': 1, 'firmware': 1, 'installation': 1, 'apple': 1, 'no': 1, 'computers': 1, 'some': 1, 'mid': 1, 'factory': 1, 'will': 1, 'leopard': 1, 'as': 1, 'allow': 1, 'have': 1, 'which': 1, 'x': 1, 'installed': 1, 'os': 1, 'longer': 1}), Counter({'and': 2, 'apple': 2, 'to': 2, 'computers': 2, 'x': 2, 'osx': 1, 'later': 1, 'developed': 1, 'moved': 1, 'community': 1, 'installed': 1, 'in': 1, 'based': 1, 'processors': 1, 'also': 1, 'since': 1, 'their': 1, 'has': 1, 'be': 1, 'non': 1, 'releases': 1, 'tiger': 1, 'mac': 1, 'using': 1, 'now': 1, 'on': 1, 'intel': 1, 'allows': 1, 'the': 1, 'os': 1}), Counter({'and': 2, 'x': 2, 'os': 2, 'apple': 1, 'app': 1, 'as': 1, 'through': 1, 'year': 1, 'download': 1, 'mountain': 1, 'for': 1, 'switch': 1, 'to': 1, 'online': 1, 'was': 1, 'store': 1, 'purchase': 1, 'releasing': 1, 'released': 1, 'mac': 1, 'part': 1, 'every': 1, 'july': 1, 'a': 1, 'on': 1, 'versions': 1, 'of': 1, 'lion': 1, 's': 1}), Counter({'and': 1, 'apple': 1, 'lion': 1, 'yosemite': 1, 'mountain': 1, 'for': 1, 'three': 1, 'has': 1, 'most': 1, 'running': 1, 'safari': 1, 'released': 1, 'recent': 1, 'a': 1, 'on': 1, 'mavericks': 1, 'versions': 1, 'of': 1, 'patch': 1, 'small': 1, 'x': 1, 'the': 1, 'os': 1}), Counter({'the': 2, 'a': 1, 'mountain': 1, 'upgrade': 1, 'entirely': 1, 'apple': 1, 'rather': 1, 'offered': 1, 'time': 1, 'second': 1, 'an': 1, 'lion': 1, 'incremental': 1, 'releasing': 1, 'cat': 1, 'marks': 1, 'release': 1, 'new': 1, 'has': 1, 'than': 1}), Counter({'an': 1, 'lion': 1, 'in': 1, 'need': 1, 'disk': 1, 'mountain': 1, 'create': 1, 'to': 1, 'won': 1, 'place': 1, 'you': 1, 'run': 1, 'separate': 1, 'mac': 1, 'external': 1, 'off': 1, 'a': 1, 'installation': 1, 'installs': 1, 'drive': 1, 'so': 1, 't': 1, 'x': 1, 'the': 1, 'os': 1, 'or': 1}), Counter({'a': 1, 'mountain': 1, 'major': 1, 'apple': 1, 'features': 1, 'count': 1, 'of': 1, 'contains': 1, 'leopard': 1, 'update': 1, 'by': 1, 'to': 1, 'mac': 1, 's': 1, 'such': 1, 'x': 1, 'the': 1, 'os': 1, 'than': 1, 'fifth': 1, 'more': 1}), Counter({'comparison': 1, 'undergone': 1, 'process': 1, 'major': 1, 'to': 1, 'cats': 1, 'have': 1, 'in': 1, 'not': 1, 'during': 1, 'the': 1, 'changes': 1, 'dogs': 1, 'domestication': 1}), Counter({'concatenate': 2, 'of': 2, 'bytes': 2, 'it': 2, 'be': 1, 'used': 1, 'just': 1, 'to': 1, 'will': 1, 'sequence': 1, 'cat': 1, 'binary': 1, 'also': 1, 'as': 1, 'streams': 1, 'can': 1, 'simply': 1, 'where': 1, 'files': 1, 'catenates': 1}), Counter({'a': 3, 'of': 2, 'to': 2, 'file': 2, 'output': 2, 'use': 1, 'for': 1, 'is': 1, 'cat': 1, 'content': 1, 'single': 1, 'common': 1, 'the': 1, 'standard': 1, 'interactive': 1}), Counter({'too': 2, 'and': 1, 'high': 1, 'as': 1, 'frequency': 1, 'human': 1, 'in': 1, 'sounds': 1, 'for': 1, 'faint': 1, 'other': 1, 'hear': 1, 'such': 1, 'mice': 1, 'by': 1, 'those': 1, 'made': 1, 'animals': 1, 'can': 1, 'small': 1, 'cats': 1, 'or': 1, 'ears': 1}), Counter({'of': 2, 'in': 2, 'tamed': 1, 'a': 1, 'selection': 1, 'useful': 1, 'people': 1, 'process': 1, 'were': 1, 'artificial': 1, 'one': 1, 'vermin': 1, 'as': 1, 'cats': 1, 'deliberately': 1, 'predators': 1, 'they': 1}), Counter({'and': 2, 'both': 1, 'chromosomes': 1, 'organisms': 1, 'closest': 1, 'that': 1, 'genes': 1, 'roughly': 1, 'cat': 1, 'diploid': 1, 'are': 1, 'wild': 1, 'the': 1, 'ancestor': 1, 'domesticated': 1, 'its': 1, 'possess': 1}), Counter({'and': 2, 'the': 2, 'felis': 1, 'weighing': 1, 'of': 1, 'between': 1, 'domestic': 1, 'typically': 1, 'lb': 1, 'to': 1, 'cats': 1, 'are': 1, 'members': 1, 'in': 1, 'kg': 1, 'genus': 1, 'similar': 1, 'other': 1, 'size': 1}), Counter({'is': 2, 'however': 1, 'or': 1, 'redirected': 1, 'output': 1, 'the': 1, 'cat': 1, 'unnecessary': 1, 'piped': 1, 'if': 1}), Counter({'is': 2, 'one': 2, 'file': 2, 'of': 2, 'the': 2, 'named': 1, 'often': 1, 'just': 1, 'human': 1, 'concern': 1, 'use': 1, 'to': 1, 'redirection': 1, 'permanently': 1, 'adjacent': 1, 'instead': 1, 'you': 1, 'may': 1, 'symbol': 1, 'were': 1, 'wrong': 1, 'read': 1, 'safer': 1, 'with': 1, 'a': 1, 'on': 1, 'keyboards': 1, 'default': 1, 'needing': 1, 'cat': 1, 'error': 1, 'where': 1, 'delete': 1}), Counter({'of': 3, 'a': 2, 'and': 1, 'commands': 1, 'right': 1, 'terms': 1, 'to': 1, 'sequence': 1, 'with': 1, 'pipes': 1, 'flow': 1, 'starting': 1, 'cat': 1, 'clear': 1, 'connected': 1, 'in': 1, 'information': 1, 'has': 1, 'legibility': 1, 'by': 1, 'left': 1}), Counter({'the': 2, 'you': 2, 'learned': 1, 'commands': 1, 'that': 1, 'started': 1, 'of': 1, 'is': 1, 'in': 1, 'when': 1, 'linux': 1, 'one': 1, 'unix': 1, 'command': 1, 'basic': 1, 'world': 1, 'cat': 1}), Counter({'using': 2, 'a': 1, 'received': 1, 'from': 1, 'be': 1, 'stdin': 1, 'lines': 1, 'new': 1, 'cat': 1, 'symbols': 1, 'to': 1, 'command': 1, 'can': 1, 'file': 1, 'redirected': 1, 'the': 1, 'redirection': 1}), Counter({'the': 2, 'it': 2, 'and': 1, 'just': 1, 'stdout': 1, 'stdin': 1, 'when': 1, 'cat': 1, 'content': 1, 'without': 1, 'command': 1, 'arguments': 1, 'receives': 1, 'in': 1, 'simply': 1, 'you': 1, 'type': 1, 'any': 1, 'displays': 1}), Counter({'and': 1, 'on': 1, 'available': 1, 'october': 1, 'of': 1, 'is': 1, 'leopard': 1, 'two': 1, 'tiger': 1, 'released': 1, 'as': 1, 'version': 1, 'in': 1, 'editions': 1, 'the': 1, 'was': 1, 'successor': 1}), Counter({'over': 2, 'and': 1, 'predecessor': 1, 'apple': 1, 'os': 1, 'contains': 1, 'leopard': 1, 'according': 1, 'tiger': 1, 'to': 1, 'mac': 1, 'x': 1, 'changes': 1, 'its': 1, 'enhancements': 1}), Counter({'of': 2, 'mac': 1, 'firmware': 1, 'installation': 1, 'apple': 1, 'no': 1, 'computers': 1, 'some': 1, 'mid': 1, 'factory': 1, 'will': 1, 'leopard': 1, 'as': 1, 'allow': 1, 'have': 1, 'which': 1, 'x': 1, 'installed': 1, 'os': 1, 'longer': 1}), Counter({'and': 2, 'apple': 2, 'to': 2, 'computers': 2, 'x': 2, 'osx': 1, 'later': 1, 'developed': 1, 'moved': 1, 'community': 1, 'installed': 1, 'in': 1, 'based': 1, 'processors': 1, 'also': 1, 'since': 1, 'their': 1, 'has': 1, 'be': 1, 'non': 1, 'releases': 1, 'tiger': 1, 'mac': 1, 'using': 1, 'now': 1, 'on': 1, 'intel': 1, 'allows': 1, 'the': 1, 'os': 1}), Counter({'and': 2, 'x': 2, 'os': 2, 'apple': 1, 'app': 1, 'as': 1, 'through': 1, 'year': 1, 'download': 1, 'mountain': 1, 'for': 1, 'switch': 1, 'to': 1, 'online': 1, 'was': 1, 'store': 1, 'purchase': 1, 'releasing': 1, 'released': 1, 'mac': 1, 'part': 1, 'every': 1, 'july': 1, 'a': 1, 'on': 1, 'versions': 1, 'of': 1, 'lion': 1, 's': 1}), Counter({'and': 1, 'apple': 1, 'lion': 1, 'yosemite': 1, 'mountain': 1, 'for': 1, 'three': 1, 'has': 1, 'most': 1, 'running': 1, 'safari': 1, 'released': 1, 'recent': 1, 'a': 1, 'on': 1, 'mavericks': 1, 'versions': 1, 'of': 1, 'patch': 1, 'small': 1, 'x': 1, 'the': 1, 'os': 1}), Counter({'the': 2, 'a': 1, 'mountain': 1, 'upgrade': 1, 'entirely': 1, 'apple': 1, 'rather': 1, 'offered': 1, 'time': 1, 'second': 1, 'an': 1, 'lion': 1, 'incremental': 1, 'releasing': 1, 'cat': 1, 'marks': 1, 'release': 1, 'new': 1, 'has': 1, 'than': 1}), Counter({'an': 1, 'lion': 1, 'in': 1, 'need': 1, 'disk': 1, 'mountain': 1, 'create': 1, 'to': 1, 'won': 1, 'place': 1, 'you': 1, 'run': 1, 'separate': 1, 'mac': 1, 'external': 1, 'off': 1, 'a': 1, 'installation': 1, 'installs': 1, 'drive': 1, 'so': 1, 't': 1, 'x': 1, 'the': 1, 'os': 1, 'or': 1}), Counter({'a': 1, 'mountain': 1, 'major': 1, 'apple': 1, 'features': 1, 'count': 1, 'of': 1, 'contains': 1, 'leopard': 1, 'update': 1, 'by': 1, 'to': 1, 'mac': 1, 's': 1, 'such': 1, 'x': 1, 'the': 1, 'os': 1, 'than': 1, 'fifth': 1, 'more': 1}), Counter({'comparison': 1, 'undergone': 1, 'process': 1, 'major': 1, 'to': 1, 'cats': 1, 'have': 1, 'in': 1, 'not': 1, 'during': 1, 'the': 1, 'changes': 1, 'dogs': 1, 'domestication': 1}), Counter({'concatenate': 2, 'of': 2, 'bytes': 2, 'it': 2, 'be': 1, 'used': 1, 'just': 1, 'to': 1, 'will': 1, 'sequence': 1, 'cat': 1, 'binary': 1, 'also': 1, 'as': 1, 'streams': 1, 'can': 1, 'simply': 1, 'where': 1, 'files': 1, 'catenates': 1}), Counter({'a': 3, 'of': 2, 'to': 2, 'file': 2, 'output': 2, 'use': 1, 'for': 1, 'is': 1, 'cat': 1, 'content': 1, 'single': 1, 'common': 1, 'the': 1, 'standard': 1, 'interactive': 1}), Counter({'too': 2, 'and': 1, 'high': 1, 'as': 1, 'frequency': 1, 'human': 1, 'in': 1, 'sounds': 1, 'for': 1, 'faint': 1, 'other': 1, 'hear': 1, 'such': 1, 'mice': 1, 'by': 1, 'those': 1, 'made': 1, 'animals': 1, 'can': 1, 'small': 1, 'cats': 1, 'or': 1, 'ears': 1}), Counter({'of': 2, 'in': 2, 'tamed': 1, 'a': 1, 'selection': 1, 'useful': 1, 'people': 1, 'process': 1, 'were': 1, 'artificial': 1, 'one': 1, 'vermin': 1, 'as': 1, 'cats': 1, 'deliberately': 1, 'predators': 1, 'they': 1}), Counter({'and': 2, 'both': 1, 'chromosomes': 1, 'organisms': 1, 'closest': 1, 'that': 1, 'genes': 1, 'roughly': 1, 'cat': 1, 'diploid': 1, 'are': 1, 'wild': 1, 'the': 1, 'ancestor': 1, 'domesticated': 1, 'its': 1, 'possess': 1}), Counter({'and': 2, 'the': 2, 'felis': 1, 'weighing': 1, 'of': 1, 'between': 1, 'domestic': 1, 'typically': 1, 'lb': 1, 'to': 1, 'cats': 1, 'are': 1, 'members': 1, 'in': 1, 'kg': 1, 'genus': 1, 'similar': 1, 'other': 1, 'size': 1}), Counter({'is': 2, 'however': 1, 'or': 1, 'redirected': 1, 'output': 1, 'the': 1, 'cat': 1, 'unnecessary': 1, 'piped': 1, 'if': 1}), Counter({'is': 2, 'one': 2, 'file': 2, 'of': 2, 'the': 2, 'named': 1, 'often': 1, 'just': 1, 'human': 1, 'concern': 1, 'use': 1, 'to': 1, 'redirection': 1, 'permanently': 1, 'adjacent': 1, 'instead': 1, 'you': 1, 'may': 1, 'symbol': 1, 'were': 1, 'wrong': 1, 'read': 1, 'safer': 1, 'with': 1, 'a': 1, 'on': 1, 'keyboards': 1, 'default': 1, 'needing': 1, 'cat': 1, 'error': 1, 'where': 1, 'delete': 1}), Counter({'of': 3, 'a': 2, 'and': 1, 'commands': 1, 'right': 1, 'terms': 1, 'to': 1, 'sequence': 1, 'with': 1, 'pipes': 1, 'flow': 1, 'starting': 1, 'cat': 1, 'clear': 1, 'connected': 1, 'in': 1, 'information': 1, 'has': 1, 'legibility': 1, 'by': 1, 'left': 1}), Counter({'the': 2, 'you': 2, 'learned': 1, 'commands': 1, 'that': 1, 'started': 1, 'of': 1, 'is': 1, 'in': 1, 'when': 1, 'linux': 1, 'one': 1, 'unix': 1, 'command': 1, 'basic': 1, 'world': 1, 'cat': 1}), Counter({'using': 2, 'a': 1, 'received': 1, 'from': 1, 'be': 1, 'stdin': 1, 'lines': 1, 'new': 1, 'cat': 1, 'symbols': 1, 'to': 1, 'command': 1, 'can': 1, 'file': 1, 'redirected': 1, 'the': 1, 'redirection': 1}), Counter({'the': 2, 'it': 2, 'and': 1, 'just': 1, 'stdout': 1, 'stdin': 1, 'when': 1, 'cat': 1, 'content': 1, 'without': 1, 'command': 1, 'arguments': 1, 'receives': 1, 'in': 1, 'simply': 1, 'you': 1, 'type': 1, 'any': 1, 'displays': 1}), Counter({'and': 1, 'on': 1, 'available': 1, 'october': 1, 'of': 1, 'is': 1, 'leopard': 1, 'two': 1, 'tiger': 1, 'released': 1, 'as': 1, 'version': 1, 'in': 1, 'editions': 1, 'the': 1, 'was': 1, 'successor': 1}), Counter({'over': 2, 'and': 1, 'predecessor': 1, 'apple': 1, 'os': 1, 'contains': 1, 'leopard': 1, 'according': 1, 'tiger': 1, 'to': 1, 'mac': 1, 'x': 1, 'changes': 1, 'its': 1, 'enhancements': 1}), Counter({'of': 2, 'mac': 1, 'firmware': 1, 'installation': 1, 'apple': 1, 'no': 1, 'computers': 1, 'some': 1, 'mid': 1, 'factory': 1, 'will': 1, 'leopard': 1, 'as': 1, 'allow': 1, 'have': 1, 'which': 1, 'x': 1, 'installed': 1, 'os': 1, 'longer': 1}), Counter({'and': 2, 'apple': 2, 'to': 2, 'computers': 2, 'x': 2, 'osx': 1, 'later': 1, 'developed': 1, 'moved': 1, 'community': 1, 'installed': 1, 'in': 1, 'based': 1, 'processors': 1, 'also': 1, 'since': 1, 'their': 1, 'has': 1, 'be': 1, 'non': 1, 'releases': 1, 'tiger': 1, 'mac': 1, 'using': 1, 'now': 1, 'on': 1, 'intel': 1, 'allows': 1, 'the': 1, 'os': 1}), Counter({'and': 2, 'x': 2, 'os': 2, 'apple': 1, 'app': 1, 'as': 1, 'through': 1, 'year': 1, 'download': 1, 'mountain': 1, 'for': 1, 'switch': 1, 'to': 1, 'online': 1, 'was': 1, 'store': 1, 'purchase': 1, 'releasing': 1, 'released': 1, 'mac': 1, 'part': 1, 'every': 1, 'july': 1, 'a': 1, 'on': 1, 'versions': 1, 'of': 1, 'lion': 1, 's': 1}), Counter({'and': 1, 'apple': 1, 'lion': 1, 'yosemite': 1, 'mountain': 1, 'for': 1, 'three': 1, 'has': 1, 'most': 1, 'running': 1, 'safari': 1, 'released': 1, 'recent': 1, 'a': 1, 'on': 1, 'mavericks': 1, 'versions': 1, 'of': 1, 'patch': 1, 'small': 1, 'x': 1, 'the': 1, 'os': 1}), Counter({'the': 2, 'a': 1, 'mountain': 1, 'upgrade': 1, 'entirely': 1, 'apple': 1, 'rather': 1, 'offered': 1, 'time': 1, 'second': 1, 'an': 1, 'lion': 1, 'incremental': 1, 'releasing': 1, 'cat': 1, 'marks': 1, 'release': 1, 'new': 1, 'has': 1, 'than': 1}), Counter({'an': 1, 'lion': 1, 'in': 1, 'need': 1, 'disk': 1, 'mountain': 1, 'create': 1, 'to': 1, 'won': 1, 'place': 1, 'you': 1, 'run': 1, 'separate': 1, 'mac': 1, 'external': 1, 'off': 1, 'a': 1, 'installation': 1, 'installs': 1, 'drive': 1, 'so': 1, 't': 1, 'x': 1, 'the': 1, 'os': 1, 'or': 1}), Counter({'a': 1, 'mountain': 1, 'major': 1, 'apple': 1, 'features': 1, 'count': 1, 'of': 1, 'contains': 1, 'leopard': 1, 'update': 1, 'by': 1, 'to': 1, 'mac': 1, 's': 1, 'such': 1, 'x': 1, 'the': 1, 'os': 1, 'than': 1, 'fifth': 1, 'more': 1}), Counter({'comparison': 1, 'undergone': 1, 'process': 1, 'major': 1, 'to': 1, 'cats': 1, 'have': 1, 'in': 1, 'not': 1, 'during': 1, 'the': 1, 'changes': 1, 'dogs': 1, 'domestication': 1}), Counter({'concatenate': 2, 'of': 2, 'bytes': 2, 'it': 2, 'be': 1, 'used': 1, 'just': 1, 'to': 1, 'will': 1, 'sequence': 1, 'cat': 1, 'binary': 1, 'also': 1, 'as': 1, 'streams': 1, 'can': 1, 'simply': 1, 'where': 1, 'files': 1, 'catenates': 1}), Counter({'a': 3, 'of': 2, 'to': 2, 'file': 2, 'output': 2, 'use': 1, 'for': 1, 'is': 1, 'cat': 1, 'content': 1, 'single': 1, 'common': 1, 'the': 1, 'standard': 1, 'interactive': 1}), Counter({'too': 2, 'and': 1, 'high': 1, 'as': 1, 'frequency': 1, 'human': 1, 'in': 1, 'sounds': 1, 'for': 1, 'faint': 1, 'other': 1, 'hear': 1, 'such': 1, 'mice': 1, 'by': 1, 'those': 1, 'made': 1, 'animals': 1, 'can': 1, 'small': 1, 'cats': 1, 'or': 1, 'ears': 1}), Counter({'of': 2, 'in': 2, 'tamed': 1, 'a': 1, 'selection': 1, 'useful': 1, 'people': 1, 'process': 1, 'were': 1, 'artificial': 1, 'one': 1, 'vermin': 1, 'as': 1, 'cats': 1, 'deliberately': 1, 'predators': 1, 'they': 1}), Counter({'and': 2, 'both': 1, 'chromosomes': 1, 'organisms': 1, 'closest': 1, 'that': 1, 'genes': 1, 'roughly': 1, 'cat': 1, 'diploid': 1, 'are': 1, 'wild': 1, 'the': 1, 'ancestor': 1, 'domesticated': 1, 'its': 1, 'possess': 1}), Counter({'and': 2, 'the': 2, 'felis': 1, 'weighing': 1, 'of': 1, 'between': 1, 'domestic': 1, 'typically': 1, 'lb': 1, 'to': 1, 'cats': 1, 'are': 1, 'members': 1, 'in': 1, 'kg': 1, 'genus': 1, 'similar': 1, 'other': 1, 'size': 1}), Counter({'is': 2, 'however': 1, 'or': 1, 'redirected': 1, 'output': 1, 'the': 1, 'cat': 1, 'unnecessary': 1, 'piped': 1, 'if': 1}), Counter({'is': 2, 'one': 2, 'file': 2, 'of': 2, 'the': 2, 'named': 1, 'often': 1, 'just': 1, 'human': 1, 'concern': 1, 'use': 1, 'to': 1, 'redirection': 1, 'permanently': 1, 'adjacent': 1, 'instead': 1, 'you': 1, 'may': 1, 'symbol': 1, 'were': 1, 'wrong': 1, 'read': 1, 'safer': 1, 'with': 1, 'a': 1, 'on': 1, 'keyboards': 1, 'default': 1, 'needing': 1, 'cat': 1, 'error': 1, 'where': 1, 'delete': 1}), Counter({'of': 3, 'a': 2, 'and': 1, 'commands': 1, 'right': 1, 'terms': 1, 'to': 1, 'sequence': 1, 'with': 1, 'pipes': 1, 'flow': 1, 'starting': 1, 'cat': 1, 'clear': 1, 'connected': 1, 'in': 1, 'information': 1, 'has': 1, 'legibility': 1, 'by': 1, 'left': 1}), Counter({'the': 2, 'you': 2, 'learned': 1, 'commands': 1, 'that': 1, 'started': 1, 'of': 1, 'is': 1, 'in': 1, 'when': 1, 'linux': 1, 'one': 1, 'unix': 1, 'command': 1, 'basic': 1, 'world': 1, 'cat': 1}), Counter({'using': 2, 'a': 1, 'received': 1, 'from': 1, 'be': 1, 'stdin': 1, 'lines': 1, 'new': 1, 'cat': 1, 'symbols': 1, 'to': 1, 'command': 1, 'can': 1, 'file': 1, 'redirected': 1, 'the': 1, 'redirection': 1}), Counter({'the': 2, 'it': 2, 'and': 1, 'just': 1, 'stdout': 1, 'stdin': 1, 'when': 1, 'cat': 1, 'content': 1, 'without': 1, 'command': 1, 'arguments': 1, 'receives': 1, 'in': 1, 'simply': 1, 'you': 1, 'type': 1, 'any': 1, 'displays': 1}), Counter({'and': 1, 'on': 1, 'available': 1, 'october': 1, 'of': 1, 'is': 1, 'leopard': 1, 'two': 1, 'tiger': 1, 'released': 1, 'as': 1, 'version': 1, 'in': 1, 'editions': 1, 'the': 1, 'was': 1, 'successor': 1}), Counter({'over': 2, 'and': 1, 'predecessor': 1, 'apple': 1, 'os': 1, 'contains': 1, 'leopard': 1, 'according': 1, 'tiger': 1, 'to': 1, 'mac': 1, 'x': 1, 'changes': 1, 'its': 1, 'enhancements': 1}), Counter({'of': 2, 'mac': 1, 'firmware': 1, 'installation': 1, 'apple': 1, 'no': 1, 'computers': 1, 'some': 1, 'mid': 1, 'factory': 1, 'will': 1, 'leopard': 1, 'as': 1, 'allow': 1, 'have': 1, 'which': 1, 'x': 1, 'installed': 1, 'os': 1, 'longer': 1}), Counter({'and': 2, 'apple': 2, 'to': 2, 'computers': 2, 'x': 2, 'osx': 1, 'later': 1, 'developed': 1, 'moved': 1, 'community': 1, 'installed': 1, 'in': 1, 'based': 1, 'processors': 1, 'also': 1, 'since': 1, 'their': 1, 'has': 1, 'be': 1, 'non': 1, 'releases': 1, 'tiger': 1, 'mac': 1, 'using': 1, 'now': 1, 'on': 1, 'intel': 1, 'allows': 1, 'the': 1, 'os': 1}), Counter({'and': 2, 'x': 2, 'os': 2, 'apple': 1, 'app': 1, 'as': 1, 'through': 1, 'year': 1, 'download': 1, 'mountain': 1, 'for': 1, 'switch': 1, 'to': 1, 'online': 1, 'was': 1, 'store': 1, 'purchase': 1, 'releasing': 1, 'released': 1, 'mac': 1, 'part': 1, 'every': 1, 'july': 1, 'a': 1, 'on': 1, 'versions': 1, 'of': 1, 'lion': 1, 's': 1}), Counter({'and': 1, 'apple': 1, 'lion': 1, 'yosemite': 1, 'mountain': 1, 'for': 1, 'three': 1, 'has': 1, 'most': 1, 'running': 1, 'safari': 1, 'released': 1, 'recent': 1, 'a': 1, 'on': 1, 'mavericks': 1, 'versions': 1, 'of': 1, 'patch': 1, 'small': 1, 'x': 1, 'the': 1, 'os': 1}), Counter({'the': 2, 'a': 1, 'mountain': 1, 'upgrade': 1, 'entirely': 1, 'apple': 1, 'rather': 1, 'offered': 1, 'time': 1, 'second': 1, 'an': 1, 'lion': 1, 'incremental': 1, 'releasing': 1, 'cat': 1, 'marks': 1, 'release': 1, 'new': 1, 'has': 1, 'than': 1}), Counter({'an': 1, 'lion': 1, 'in': 1, 'need': 1, 'disk': 1, 'mountain': 1, 'create': 1, 'to': 1, 'won': 1, 'place': 1, 'you': 1, 'run': 1, 'separate': 1, 'mac': 1, 'external': 1, 'off': 1, 'a': 1, 'installation': 1, 'installs': 1, 'drive': 1, 'so': 1, 't': 1, 'x': 1, 'the': 1, 'os': 1, 'or': 1}), Counter({'a': 1, 'mountain': 1, 'major': 1, 'apple': 1, 'features': 1, 'count': 1, 'of': 1, 'contains': 1, 'leopard': 1, 'update': 1, 'by': 1, 'to': 1, 'mac': 1, 's': 1, 'such': 1, 'x': 1, 'the': 1, 'os': 1, 'than': 1, 'fifth': 1, 'more': 1})]\n"
     ]
    }
   ],
   "source": [
    "print counted_words"
   ]
  },
  {
   "cell_type": "code",
   "execution_count": 30,
   "metadata": {},
   "outputs": [
    {
     "name": "stdout",
     "output_type": "stream",
     "text": [
      "{'osx': 1, 'selection': 2, 'safari': 3, 'just': 4, 'developed': 5, 'over': 6, 'vermin': 7, 'domestic': 8, 'major': 110, 'installed': 10, 'symbols': 11, 'through': 12, 'human': 13, 'world': 14, 'disk': 15, 'its': 16, 'fifth': 17, 'apple': 113, 'tamed': 19, 'upgrade': 20, 'lb': 21, 'computers': 179, 'to': 23, 'version': 70, 'deliberately': 25, 'marks': 26, 'has': 27, 'arguments': 210, 'predecessor': 28, 'non': 29, 'adjacent': 211, 'read': 31, 'made': 163, 'every': 33, 'they': 35, 'not': 36, 'during': 37, 'now': 38, 'organisms': 236, 'people': 131, 'possess': 39, 'intel': 40, 'keyboards': 41, 'command': 246, 'bytes': 42, 'unnecessary': 43, 'patch': 44, 'common': 77, 'release': 84, 'output': 47, 'entirely': 48, 'where': 49, 'stdin': 240, 'ears': 50, 'concatenate': 78, 'right': 119, 'often': 53, 'wrong': 226, 'sequence': 54, 'some': 55, 'lion': 56, 'frequency': 57, 'displays': 0, 'year': 59, 'download': 60, 'terms': 61, 'firmware': 205, 'concern': 62, 'for': 64, 'pipes': 65, 'since': 66, 'factory': 67, 'artificial': 68, 'content': 69, 'won': 24, 'between': 72, 'kg': 235, 'new': 73, 'learned': 74, 'piped': 76, 'predators': 45, 'available': 51, 'be': 79, 'run': 71, 'genes': 81, 'undergone': 124, 'standard': 83, 'small': 46, 'were': 173, 'diploid': 85, 'members': 86, 'x': 87, 'based': 88, 'safer': 89, 'by': 90, 'on': 52, 'commands': 92, 'weighing': 80, 'installs': 94, 'of': 95, 'needing': 96, 'allows': 97, 'according': 98, 's': 102, 'streams': 103, 'receives': 104, 'successor': 105, 'catenates': 106, 'os': 34, 'or': 108, 'and': 177, 'named': 9, 'contains': 148, 'useful': 112, 'features': 18, 'app': 114, 'mice': 157, 'community': 115, 'one': 116, 'running': 117, 'unix': 118, 'simply': 120, 'linux': 121, 'sounds': 122, 'size': 123, 'use': 82, 'delete': 125, 'from': 126, 'enhancements': 127, 'redirection': 134, 'create': 130, 'faint': 111, 'three': 75, 't': 133, 'their': 129, 'however': 135, 'cats': 136, 'too': 137, 'basic': 138, 'permanently': 139, 'type': 140, 'dogs': 141, 'store': 142, 'more': 143, 'files': 144, 'releases': 145, 'both': 91, 'started': 147, 'offered': 216, 'releasing': 149, 'tiger': 150, 'released': 151, 'part': 152, 'hear': 153, 'external': 154, 'editions': 155, 'installation': 93, 'july': 99, 'with': 158, 'than': 159, 'those': 160, 'count': 162, 'october': 32, 'animals': 164, 'mavericks': 165, 'versions': 166, 'default': 167, 'was': 168, 'typically': 252, 'second': 128, 'cat': 170, 'will': 171, 'information': 220, 'can': 172, 'error': 63, 'wild': 174, 'similar': 175, 'are': 58, 'felis': 109, 'interactive': 176, 'file': 192, 'stdout': 181, 'process': 182, 'flow': 241, 'is': 184, 'received': 185, 'moved': 186, 'it': 187, 'an': 188, 'high': 189, 'single': 169, 'incremental': 191, 'have': 180, 'in': 193, 'need': 194, 'domesticated': 195, 'any': 196, 'as': 190, 'if': 198, 'mountain': 178, 'processors': 200, 'no': 201, 'rather': 202, 'legibility': 203, 'separate': 204, 'that': 146, 'when': 206, 'mid': 207, 'also': 208, 'other': 209, 'domestication': 197, 'which': 30, 'online': 212, 'instead': 213, 'you': 214, 'ancestor': 215, 'used': 217, 'chromosomes': 218, 'closest': 219, 'binary': 199, 'may': 221, 'symbol': 222, 'leopard': 223, 'update': 224, 'most': 225, 'mac': 101, 'connected': 227, 'two': 132, 'yosemite': 228, 'such': 229, 'comparison': 230, 'recent': 231, 'a': 232, 'purchase': 233, 'genus': 234, 'off': 156, 'longer': 161, 'using': 237, 'changes': 107, 'clear': 239, 'later': 100, 'lines': 183, 'drive': 22, 'switch': 244, 'without': 245, 'so': 243, 'place': 247, 'allow': 248, 'time': 249, 'redirected': 250, 'the': 251, 'roughly': 242, 'starting': 238, 'left': 253}\n"
     ]
    }
   ],
   "source": [
    "set_of_words = set(words)\n",
    "dict_of_words = {}\n",
    "index = 0\n",
    "for word in set_of_words :\n",
    "    dict_of_words[word] = index;\n",
    "    index += 1\n",
    "print dict_of_words"
   ]
  },
  {
   "cell_type": "code",
   "execution_count": 37,
   "metadata": {
    "collapsed": true
   },
   "outputs": [],
   "source": [
    "import numpy as np"
   ]
  },
  {
   "cell_type": "code",
   "execution_count": 43,
   "metadata": {},
   "outputs": [],
   "source": [
    "matrix_of_words = np.zeros((22, 254))\n",
    "for word in dict_of_words:\n",
    "    index_word = dict_of_words[word]\n",
    "    index_sentence = 0\n",
    "    for sentence in counted_list_of_words:\n",
    "        if word in sentence:\n",
    "            matrix_of_words[index_sentence][index_word] = sentence[word]\n",
    "        index_sentence += 1"
   ]
  },
  {
   "cell_type": "code",
   "execution_count": 44,
   "metadata": {},
   "outputs": [
    {
     "data": {
      "text/plain": [
       "array([[0., 0., 0., ..., 1., 0., 0.],\n",
       "       [0., 0., 0., ..., 0., 0., 0.],\n",
       "       [0., 0., 0., ..., 1., 0., 0.],\n",
       "       ...,\n",
       "       [0., 0., 0., ..., 2., 0., 0.],\n",
       "       [0., 0., 0., ..., 1., 0., 0.],\n",
       "       [0., 0., 0., ..., 1., 0., 0.]])"
      ]
     },
     "execution_count": 44,
     "metadata": {},
     "output_type": "execute_result"
    }
   ],
   "source": [
    "matrix_of_words"
   ]
  },
  {
   "cell_type": "code",
   "execution_count": 49,
   "metadata": {},
   "outputs": [],
   "source": [
    "from scipy import spatial"
   ]
  },
  {
   "cell_type": "code",
   "execution_count": 56,
   "metadata": {},
   "outputs": [],
   "source": [
    "result = {}\n",
    "first_string = matrix_of_words[0]\n",
    "index_of_string = 0\n",
    "for string in matrix_of_words:\n",
    "    result[spatial.distance.cosine(string, first_string)] = index_of_string\n",
    "    index_of_string += 1"
   ]
  },
  {
   "cell_type": "code",
   "execution_count": 58,
   "metadata": {},
   "outputs": [],
   "source": [
    "import collections"
   ]
  },
  {
   "cell_type": "code",
   "execution_count": 59,
   "metadata": {
    "collapsed": true
   },
   "outputs": [],
   "source": [
    "finish_result = collections.OrderedDict(sorted(result.items()))"
   ]
  },
  {
   "cell_type": "code",
   "execution_count": 60,
   "metadata": {},
   "outputs": [
    {
     "name": "stdout",
     "output_type": "stream",
     "text": [
      "OrderedDict([(0.0, 0), (0.7327387580875756, 6), (0.7770887149698589, 4), (0.8250364469440588, 21), (0.8328165362273942, 10), (0.8396432548525454, 12), (0.8406361854220809, 16), (0.8427572744917122, 20), (0.8644738145642124, 2), (0.8703592552895671, 13), (0.8740118423302576, 14), (0.8804771390665607, 11), (0.8842724875284311, 8), (0.8885443574849294, 19), (0.8951715163278082, 3), (0.9055088817476932, 9), (0.9258750683338899, 7), (0.9402385695332803, 5), (0.9442721787424647, 18), (0.9527544408738466, 1), (0.956644501523794, 17)])\n"
     ]
    }
   ],
   "source": [
    "print finish_result"
   ]
  },
  {
   "cell_type": "code",
   "execution_count": null,
   "metadata": {
    "collapsed": true
   },
   "outputs": [],
   "source": []
  }
 ],
 "metadata": {
  "kernelspec": {
   "display_name": "Python 2",
   "language": "python",
   "name": "python2"
  },
  "language_info": {
   "codemirror_mode": {
    "name": "ipython",
    "version": 2
   },
   "file_extension": ".py",
   "mimetype": "text/x-python",
   "name": "python",
   "nbconvert_exporter": "python",
   "pygments_lexer": "ipython2",
   "version": "2.7.14"
  }
 },
 "nbformat": 4,
 "nbformat_minor": 2
}
